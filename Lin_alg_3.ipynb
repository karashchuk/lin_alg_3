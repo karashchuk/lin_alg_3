{
  "nbformat": 4,
  "nbformat_minor": 0,
  "metadata": {
    "colab": {
      "name": "Lin_alg_3.ipynb",
      "provenance": [],
      "collapsed_sections": []
    },
    "kernelspec": {
      "name": "python3",
      "display_name": "Python 3"
    }
  },
  "cells": [
    {
      "cell_type": "markdown",
      "metadata": {
        "id": "nhtP-GbXHwS8",
        "colab_type": "text"
      },
      "source": [
        "# Решение заданий к уроку 3"
      ]
    },
    {
      "cell_type": "markdown",
      "metadata": {
        "id": "_p6EJmAJHtpe",
        "colab_type": "text"
      },
      "source": [
        "__1.__ Найти собственные векторы и собственные значения для линейного оператора, заданного матрицей\n",
        "\n",
        "$$A=\\begin{pmatrix}\n",
        "-1 & -6\\\\ \n",
        "2 & 6\n",
        "\\end{pmatrix}.$$\n",
        "\n"
      ]
    },
    {
      "cell_type": "markdown",
      "metadata": {
        "id": "l2B8CwIAKcmz",
        "colab_type": "text"
      },
      "source": [
        "### Решение\n",
        "\n",
        "Теперь найдем собственные значения линейного оператора, составив и решив характеристическое уравнение:\n",
        "\n",
        "$$\\begin{vmatrix}\n",
        "-1-\\lambda & -6\\\\ \n",
        "2 & 6-\\lambda\n",
        "\\end{vmatrix} = 0$$\n",
        "\n",
        "$(-1-\\lambda)(6-\\lambda)-2\\cdot(-6) =0,$\n",
        "\n",
        "$\\lambda^2 - 6 \\lambda + \\lambda - 6 + 12 = 0$\n",
        "\n",
        "$\\lambda^2 - 5 \\lambda + 6 = 0$\n",
        "\n",
        "$(\\lambda -2)(\\lambda -3) = 0$\n",
        "\n",
        "отсюда собственные значения:\n",
        "\n",
        "$\\lambda_1 = 2$\n",
        "\n",
        "$\\lambda_2 = 3$\n",
        "\n",
        "Теперь найдем собственные векторы вида $\\begin{pmatrix}\n",
        "x_{1}\\\\ \n",
        "x_{2}\n",
        "\\end{pmatrix}$, подставив полученное собственное значение в выражение $\\textbf{A}x=\\lambda x$:\n",
        "\n",
        "$$\\begin{pmatrix}\n",
        "-1 & -6\\\\ \n",
        "2 & 6\n",
        "\\end{pmatrix}\n",
        "\\begin{pmatrix}\n",
        "x_{1}\\\\ \n",
        "x_{2}\n",
        "\\end{pmatrix}=\n",
        "\\lambda\n",
        "\\begin{pmatrix}\n",
        "x_{1}\\\\ \n",
        "x_{2}\n",
        "\\end{pmatrix}.\n",
        "$$\n",
        "\n",
        "для \n",
        "$\\lambda_1 = 2$\n",
        "\n",
        "$\\begin{cases}\n",
        "-x_1-6x_2 = 2x_1 \\\\\n",
        "2x_1+6x_2= 2x_2\n",
        "\\end{cases}$\n",
        "\n",
        "$\\begin{cases}\n",
        "x_1 = -2 x_2 \\\\\n",
        "x_1 = - 2x_2\n",
        "\\end{cases}$\n",
        "\n",
        "Общее решение собственного вектора для $\\lambda_1$:   $\\,\\,\\, x_2 \\cdot \\begin{pmatrix}\n",
        "-2\\\\ \n",
        "1\n",
        "\\end{pmatrix}$\n",
        "\n",
        "для $\\lambda_2 = 3$\n",
        "\n",
        "$\\begin{cases}\n",
        "-x_1-6x_2 = 3x_1 \\\\\n",
        "2x_1+6x_2= 3x_2\n",
        "\\end{cases}$\n",
        "\n",
        "$\\begin{cases}\n",
        "x_1 = - \\frac{3}{2} x_2 \\\\\n",
        "x_1 = - \\frac{3}{2}x_2\n",
        "\\end{cases}$\n",
        "\n",
        "Общее решение собственного вектора для $\\lambda_2$:   $\\,\\,\\, x_2 \\cdot \\begin{pmatrix}\n",
        "- \\frac{3}{2}\\\\ \n",
        "1\n",
        "\\end{pmatrix}$\n",
        "\n"
      ]
    },
    {
      "cell_type": "code",
      "metadata": {
        "id": "98pLy_4UJ6B0",
        "colab_type": "code",
        "colab": {
          "base_uri": "https://localhost:8080/",
          "height": 102
        },
        "outputId": "895e6a26-6527-464d-8550-e77c145191c4"
      },
      "source": [
        "# проверим\n",
        "import numpy as np\n",
        "A = np.array([[-1, -6], [2, 6]])\n",
        "w,v = np.linalg.eig(A)\n",
        "print(f'Собственные значения:\\n{w}')\n",
        "print(f'Собственные векторы:\\n{v}')"
      ],
      "execution_count": 22,
      "outputs": [
        {
          "output_type": "stream",
          "text": [
            "Собственные значения:\n",
            "[2. 3.]\n",
            "Собственные векторы:\n",
            "[[-0.89442719  0.83205029]\n",
            " [ 0.4472136  -0.5547002 ]]\n"
          ],
          "name": "stdout"
        }
      ]
    },
    {
      "cell_type": "code",
      "metadata": {
        "id": "FhJPvxvdam_I",
        "colab_type": "code",
        "colab": {
          "base_uri": "https://localhost:8080/",
          "height": 34
        },
        "outputId": "4b68846b-a383-4099-fe23-d284fc27a14d"
      },
      "source": [
        "# если x2 = 0.4472136 для первого собственного значения = 2, то x1 должен быть \n",
        "v[1,0]*(-2)\n",
        "# что соответствует "
      ],
      "execution_count": 23,
      "outputs": [
        {
          "output_type": "execute_result",
          "data": {
            "text/plain": [
              "-0.8944271909999159"
            ]
          },
          "metadata": {
            "tags": []
          },
          "execution_count": 23
        }
      ]
    },
    {
      "cell_type": "markdown",
      "metadata": {
        "id": "s8eK5EE8oee6",
        "colab_type": "text"
      },
      "source": [
        "-----"
      ]
    },
    {
      "cell_type": "markdown",
      "metadata": {
        "id": "vfkAWKlfH_I_",
        "colab_type": "text"
      },
      "source": [
        "__2.__ Дан оператор поворота на 180 градусов, задаваемый матрицей\n",
        "\n",
        "$$A=\\begin{pmatrix}\n",
        "-1 & 0\\\\ \n",
        "0 & -1\n",
        "\\end{pmatrix}.$$\n",
        "\n",
        "Показать, что __любой__ вектор является для него собственным.\n",
        "\n"
      ]
    },
    {
      "cell_type": "markdown",
      "metadata": {
        "id": "O_mIagVfbhgt",
        "colab_type": "text"
      },
      "source": [
        "### Решение\n",
        "\n",
        "$A=\\begin{pmatrix}\n",
        "-1 & 0\\\\ \n",
        "0 & -1\n",
        "\\end{pmatrix} = -1\\cdot \\begin{pmatrix}\n",
        "1 & 0\\\\ \n",
        "0 & 1\n",
        "\\end{pmatrix} = - E$\n",
        "\n",
        "возьмем произвольный вектор $\\begin{pmatrix}\n",
        "a\\\\ \n",
        "b\n",
        "\\end{pmatrix}$ и проверим \n",
        "\n",
        "$A \\cdot \\begin{pmatrix}\n",
        "a\\\\ \n",
        "b\n",
        "\\end{pmatrix} = \\lambda \\cdot \\begin{pmatrix}\n",
        "a\\\\ \n",
        "b\n",
        "\\end{pmatrix}$\n",
        "\n",
        "$- E \\cdot \\begin{pmatrix}\n",
        "a\\\\ \n",
        "b\n",
        "\\end{pmatrix} = - \\begin{pmatrix}\n",
        "a\\\\ \n",
        "b\n",
        "\\end{pmatrix} = \\lambda \\begin{pmatrix}\n",
        "a\\\\ \n",
        "b\n",
        "\\end{pmatrix} \\,\\,\\, \\to  \\,\\,\\, \\lambda = -1$\n",
        "\n",
        "Следовательно для собственного значения $\\lambda = -1$ __любой__ вектор является для него собственным."
      ]
    },
    {
      "cell_type": "markdown",
      "metadata": {
        "id": "qDJnoRpdohZ3",
        "colab_type": "text"
      },
      "source": [
        "------"
      ]
    },
    {
      "cell_type": "markdown",
      "metadata": {
        "id": "jk8bIX6iIBDD",
        "colab_type": "text"
      },
      "source": [
        "__3.__ Пусть линейный оператор задан матрицей\n",
        "\n",
        "$$A=\\begin{pmatrix}\n",
        "1 & 1\\\\ \n",
        "-1 & 3\n",
        "\\end{pmatrix}.$$\n",
        "\n",
        "Установить, является ли вектор $x=(1,1)$ собственным вектором этого линейного оператора.\n",
        "\n"
      ]
    },
    {
      "cell_type": "markdown",
      "metadata": {
        "id": "VOsBvLGbdk9S",
        "colab_type": "text"
      },
      "source": [
        "### Решение \n",
        "\n",
        "Предположим, что вектор $x$ является собственным вектором заданного линейного оператора, тогда должно существовать некоторое вещественное число $\\lambda$, при котором \n",
        "\n",
        "$$\\begin{pmatrix}\n",
        "1 & 1\\\\ \n",
        "-1 & 3\n",
        "\\end{pmatrix}\n",
        "\\begin{pmatrix}\n",
        "1\\\\ \n",
        "1 \n",
        "\\end{pmatrix}=\n",
        "\\lambda\n",
        "\\begin{pmatrix}\n",
        "1\\\\ \n",
        "1\n",
        "\\end{pmatrix}.\n",
        "$$\n",
        "\n",
        "Из этого будет следовать, что \n",
        "\n",
        "$$\\begin{cases}\n",
        "1+1=1\\cdot\\lambda \\\\ \n",
        "-1 +3 = 1\\cdot \\lambda\n",
        "\\end{cases}\n",
        "\\Rightarrow\n",
        "\\begin{cases}\n",
        "\\lambda=2\\\\ \n",
        "\\lambda= 2\n",
        "\\end{cases}$$\n",
        "\n",
        "\n",
        "Следовательно вектор $x=(1,1)$ является собственным вектором этого линейного оператора при $\\lambda = 2$"
      ]
    },
    {
      "cell_type": "code",
      "metadata": {
        "id": "UFq8v8WaezgU",
        "colab_type": "code",
        "colab": {
          "base_uri": "https://localhost:8080/",
          "height": 102
        },
        "outputId": "d9a65af3-c850-490f-9c18-20f935bf81c9"
      },
      "source": [
        "# Проверим\n",
        "B = np.array([[1,1],[-1,3]])\n",
        "w1,v1 = np.linalg.eig(B)\n",
        "print(f'Собственные значения:\\n{w1}')\n",
        "print(f'Собственные векторы:\\n{v1}')\n"
      ],
      "execution_count": 50,
      "outputs": [
        {
          "output_type": "stream",
          "text": [
            "Собственные значения:\n",
            "[2.00000002 1.99999998]\n",
            "Собственные векторы:\n",
            "[[ 0.70710677 -0.70710679]\n",
            " [ 0.70710679 -0.70710677]]\n"
          ],
          "name": "stdout"
        }
      ]
    },
    {
      "cell_type": "markdown",
      "metadata": {
        "id": "SNG7BmAlojeB",
        "colab_type": "text"
      },
      "source": [
        "------"
      ]
    },
    {
      "cell_type": "markdown",
      "metadata": {
        "id": "xXsnyUcRIC2N",
        "colab_type": "text"
      },
      "source": [
        "__4.__ Пусть линейный оператор задан матрицей\n",
        "\n",
        "$$A=\\begin{pmatrix}\n",
        "0 & 3 & 0\\\\ \n",
        "3 & 0 & 0\\\\\n",
        "0 & 0 & 3\n",
        "\\end{pmatrix}.$$\n",
        "\n",
        "Установить, является ли вектор $x=(3, -3, -4)$ собственным вектором этого линейного оператора."
      ]
    },
    {
      "cell_type": "markdown",
      "metadata": {
        "id": "gtkq-degfSSJ",
        "colab_type": "text"
      },
      "source": [
        "### Решение\n",
        "\n",
        "$\\begin{pmatrix}\n",
        "0 & 3 & 0\\\\ \n",
        "3 & 0 & 0\\\\\n",
        "0 & 0 & 3\n",
        "\\end{pmatrix} \\begin{pmatrix}\n",
        "3 \\\\ \n",
        "-3 \\\\\n",
        "-4 \n",
        "\\end{pmatrix}  = \\lambda \\begin{pmatrix}\n",
        "3 \\\\ \n",
        "-3 \\\\\n",
        "-4 \n",
        "\\end{pmatrix} $\n",
        "\n",
        "$\\begin{cases}\n",
        "-9 =3 \\cdot\\lambda \\\\ \n",
        "9 = -3 \\cdot \\lambda \\\\\n",
        "-12 = -4 \\cdot \\lambda\n",
        "\\end{cases} \\Rightarrow\n",
        "\\begin{cases}\n",
        "\\lambda= -3\\\\ \n",
        "\\lambda= -3\\\\\n",
        "\\lambda = 3\n",
        "\\end{cases}$\n",
        "\n",
        "Cледовательно, вектор $x=(3,-3, -4)$ не является собственным вектором линейного оператора, заданного матрицей $A$"
      ]
    },
    {
      "cell_type": "code",
      "metadata": {
        "id": "4xcsfQJVHskM",
        "colab_type": "code",
        "colab": {
          "base_uri": "https://localhost:8080/",
          "height": 119
        },
        "outputId": "a5924dfd-ef2b-4d0e-d8cd-99116f40e721"
      },
      "source": [
        "# Проверим\n",
        "C = np.array([[0, 3,0],[3,0,0], [0, 0, 3]])\n",
        "w2,v2 = np.linalg.eig(C)\n",
        "print(f'Собственные значения:\\n{w2}')\n",
        "print(f'Собственные векторы:\\n{v2}')"
      ],
      "execution_count": 26,
      "outputs": [
        {
          "output_type": "stream",
          "text": [
            "Собственные значения:\n",
            "[ 3. -3.  3.]\n",
            "Собственные векторы:\n",
            "[[ 0.70710678 -0.70710678  0.        ]\n",
            " [ 0.70710678  0.70710678  0.        ]\n",
            " [ 0.          0.          1.        ]]\n"
          ],
          "name": "stdout"
        }
      ]
    }
  ]
}